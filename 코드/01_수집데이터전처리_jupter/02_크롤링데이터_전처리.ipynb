{
 "cells": [
  {
   "cell_type": "code",
   "execution_count": 1,
   "metadata": {},
   "outputs": [],
   "source": [
    "import pandas as pd\n",
    "import os\n",
    "import glob"
   ]
  },
  {
   "cell_type": "markdown",
   "metadata": {},
   "source": [
    "# 기준날짜까지"
   ]
  },
  {
   "cell_type": "code",
   "execution_count": 2,
   "metadata": {},
   "outputs": [],
   "source": [
    "data_path_1 = os.path.abspath('../data/01_제공데이터')\n",
    "data_path_2 = os.path.abspath('../data/02_평가데이터')\n",
    "data_path_3 = os.path.abspath('../data/03_수집데이터')"
   ]
  },
  {
   "cell_type": "code",
   "execution_count": 3,
   "metadata": {},
   "outputs": [],
   "source": [
    "csv_files = glob.glob(data_path_1+'/*.csv')\n",
    "\n",
    "dataset = {}    # Raw data Dick 자징하기\n",
    "files = []      # Raw data file 리스트 \n",
    "for name in csv_files:\n",
    "    raw = pd.read_csv(name,encoding = \"cp949\")\n",
    "    name = os.path.basename(name).split('.')[0] # 파일의 확장자 제외 이름만 가져오기 \n",
    "    dataset.update({name : raw})    # 데이터 사전 \n",
    "\n",
    "    files.append(name)  "
   ]
  },
  {
   "cell_type": "code",
   "execution_count": 4,
   "metadata": {},
   "outputs": [],
   "source": [
    "hit_2018 = dataset[files[0]]\n",
    "hit_2019 = dataset[files[1]]\n",
    "hit_2020 = dataset[files[2]]\n",
    "hit_2021 = dataset[files[3]]\n",
    "\n",
    "player_2018 = dataset[files[5]]\n",
    "player_2019 = dataset[files[6]]\n",
    "player_2020 = dataset[files[7]]\n",
    "player_2021 = dataset[files[8]]\n",
    "\n",
    "batter_2018 = dataset[files[9]]\n",
    "batter_2019 = dataset[files[10]]\n",
    "batter_2020 = dataset[files[11]]\n",
    "batter_2021 = dataset[files[12]]"
   ]
  },
  {
   "cell_type": "code",
   "execution_count": 5,
   "metadata": {},
   "outputs": [],
   "source": [
    "# 영어 column을 가독성 좋게 한글로 변경\n",
    "hit_2018.columns = [\"년도\", \"경기코드\", \"투구코드\", \"선수코드\", \"팀코드\", \"이닝\", \"타구속도\",\"발사각도\", \"타구종류\", \"구속\", \"경기장\"]\n",
    "hit_2019.columns = [\"년도\", \"경기코드\", \"투구코드\", \"선수코드\", \"팀코드\", \"이닝\", \"타구속도\",\"발사각도\", \"타구종류\", \"구속\", \"경기장\"]\n",
    "hit_2020.columns = [\"년도\", \"경기코드\", \"투구코드\", \"선수코드\", \"팀코드\", \"이닝\", \"타구속도\",\"발사각도\", \"타구종류\", \"구속\", \"경기장\"]\n",
    "hit_2021.columns = [\"년도\", \"경기코드\", \"투구코드\", \"선수코드\", \"팀코드\", \"이닝\", \"타구속도\",\"발사각도\", \"타구종류\", \"구속\", \"경기장\"]\n",
    "\n",
    "player_2018.columns = [\"년도\", \"선수코드\", \"이름\", \"팀코드\", \"포지션\", \"나이\", \"연봉\"]\n",
    "player_2019.columns = [\"년도\", \"선수코드\", \"이름\", \"팀코드\", \"포지션\", \"나이\", \"연봉\"]\n",
    "player_2020.columns = [\"년도\", \"선수코드\", \"이름\", \"팀코드\", \"포지션\", \"나이\", \"연봉\"]\n",
    "player_2021.columns = [\"년도\", \"선수코드\", \"이름\", \"팀코드\", \"포지션\", \"나이\", \"연봉\"]\n",
    "\n",
    "batter_2018.columns = [\"년도\", \"선수코드\", \"출장경기수\", \"타석\", \"타수\", \"타율\", \"안타\", \"홈런\", \"루타\", \"장타율\", \"희생플라이\", \"볼넷\", \"삼진\", \"고의사구\", \"사구\", \"병살타\"]\n",
    "batter_2019.columns = [\"년도\", \"선수코드\", \"출장경기수\", \"타석\", \"타수\", \"타율\", \"안타\", \"홈런\", \"루타\", \"장타율\", \"희생플라이\", \"볼넷\", \"삼진\", \"고의사구\", \"사구\", \"병살타\"]\n",
    "batter_2020.columns = [\"년도\", \"선수코드\", \"출장경기수\", \"타석\", \"타수\", \"타율\", \"안타\", \"홈런\", \"루타\", \"장타율\", \"희생플라이\", \"볼넷\", \"삼진\", \"고의사구\", \"사구\", \"병살타\"]\n",
    "batter_2021.columns =[\"년도\", \"선수코드\", \"출장경기수\", \"타석\", \"타수\", \"타율\", \"안타\", \"홈런\", \"루타\", \"장타율\", \"희생플라이\", \"볼넷\", \"삼진\", \"고의사구\", \"사구\", \"병살타\"]"
   ]
  },
  {
   "cell_type": "code",
   "execution_count": 6,
   "metadata": {},
   "outputs": [],
   "source": [
    "statiz = pd.read_csv(data_path_3 + \"/perfect_statiz_data.csv\")\n",
    "\n",
    "lst = [2018,2019,2020,2021]\n",
    "statiz = statiz.query(\"년도 in @lst\").reset_index(drop = True)"
   ]
  },
  {
   "cell_type": "code",
   "execution_count": 7,
   "metadata": {},
   "outputs": [],
   "source": [
    "statiz[\"월\"] = statiz.일자.apply(lambda x:x[:2])\n",
    "statiz[\"일\"] = statiz.일자.apply(lambda x:x[3:])"
   ]
  },
  {
   "cell_type": "code",
   "execution_count": 8,
   "metadata": {},
   "outputs": [],
   "source": [
    "statiz_2018 = statiz[statiz.년도 == 2018]"
   ]
  },
  {
   "cell_type": "code",
   "execution_count": 9,
   "metadata": {},
   "outputs": [
    {
     "name": "stderr",
     "output_type": "stream",
     "text": [
      "C:\\Users\\parks\\anaconda3\\lib\\site-packages\\pandas\\core\\generic.py:5494: SettingWithCopyWarning: \n",
      "A value is trying to be set on a copy of a slice from a DataFrame.\n",
      "Try using .loc[row_indexer,col_indexer] = value instead\n",
      "\n",
      "See the caveats in the documentation: https://pandas.pydata.org/pandas-docs/stable/user_guide/indexing.html#returning-a-view-versus-a-copy\n",
      "  self[name] = value\n"
     ]
    }
   ],
   "source": [
    "statiz_2018.일 = statiz_2018.일.astype(\"int\")"
   ]
  },
  {
   "cell_type": "code",
   "execution_count": 10,
   "metadata": {},
   "outputs": [
    {
     "name": "stderr",
     "output_type": "stream",
     "text": [
      "<ipython-input-10-9541732eb9c3>:1: UserWarning: Boolean Series key will be reindexed to match DataFrame index.\n",
      "  s_18_9 = statiz_2018[statiz_2018.월 == \"09\"][statiz_2018.일<17]\n"
     ]
    }
   ],
   "source": [
    "s_18_9 = statiz_2018[statiz_2018.월 == \"09\"][statiz_2018.일<17]"
   ]
  },
  {
   "cell_type": "code",
   "execution_count": 11,
   "metadata": {},
   "outputs": [
    {
     "name": "stderr",
     "output_type": "stream",
     "text": [
      "<ipython-input-11-6e7a932bef71>:1: UserWarning: Boolean Series key will be reindexed to match DataFrame index.\n",
      "  s_18_8 = statiz_2018[statiz_2018.월 == \"08\"][statiz_2018.일 >=7 ].reset_index(drop = True)\n"
     ]
    }
   ],
   "source": [
    "s_18_8 = statiz_2018[statiz_2018.월 == \"08\"][statiz_2018.일 >=7 ].reset_index(drop = True)"
   ]
  },
  {
   "cell_type": "code",
   "execution_count": 12,
   "metadata": {},
   "outputs": [],
   "source": [
    "statiz_18 = pd.concat([s_18_9,s_18_8],axis = 0).reset_index(drop = True)"
   ]
  },
  {
   "cell_type": "code",
   "execution_count": 13,
   "metadata": {},
   "outputs": [],
   "source": [
    "statiz_2019 = statiz[statiz.년도 == 2019].reset_index(drop = True)\n",
    "statiz_2019.일 = statiz_2019.일.astype(\"int\")"
   ]
  },
  {
   "cell_type": "code",
   "execution_count": 14,
   "metadata": {},
   "outputs": [
    {
     "name": "stderr",
     "output_type": "stream",
     "text": [
      "<ipython-input-14-02abac50997e>:1: UserWarning: Boolean Series key will be reindexed to match DataFrame index.\n",
      "  s_19_9 = statiz_2019[statiz_2019.월 == \"09\"][statiz_2019.일<14]\n"
     ]
    }
   ],
   "source": [
    "s_19_9 = statiz_2019[statiz_2019.월 == \"09\"][statiz_2019.일<14]"
   ]
  },
  {
   "cell_type": "code",
   "execution_count": 15,
   "metadata": {},
   "outputs": [
    {
     "name": "stderr",
     "output_type": "stream",
     "text": [
      "<ipython-input-15-447976939067>:1: UserWarning: Boolean Series key will be reindexed to match DataFrame index.\n",
      "  s_19_8 = statiz_2019[statiz_2019.월 == \"08\"][statiz_2019.일>=21]\n"
     ]
    }
   ],
   "source": [
    "s_19_8 = statiz_2019[statiz_2019.월 == \"08\"][statiz_2019.일>=21]"
   ]
  },
  {
   "cell_type": "code",
   "execution_count": 16,
   "metadata": {},
   "outputs": [],
   "source": [
    "statiz_19 = pd.concat([s_19_9,s_19_8],axis = 0).reset_index(drop = True)"
   ]
  },
  {
   "cell_type": "code",
   "execution_count": 17,
   "metadata": {},
   "outputs": [],
   "source": [
    "statiz_2020 = statiz[statiz.년도 == 2020].reset_index(drop = True)\n",
    "statiz_2020.일 = statiz_2020.일.astype(\"int\")"
   ]
  },
  {
   "cell_type": "code",
   "execution_count": 18,
   "metadata": {},
   "outputs": [
    {
     "name": "stderr",
     "output_type": "stream",
     "text": [
      "<ipython-input-18-66b0caf5f927>:1: UserWarning: Boolean Series key will be reindexed to match DataFrame index.\n",
      "  s_20_10 = statiz_2020[statiz_2020.월 == \"10\"][statiz_2020.일 >=8]\n"
     ]
    }
   ],
   "source": [
    "s_20_10 = statiz_2020[statiz_2020.월 == \"10\"][statiz_2020.일 >=8]"
   ]
  },
  {
   "cell_type": "code",
   "execution_count": 19,
   "metadata": {},
   "outputs": [],
   "source": [
    "statiz_20 = s_20_10"
   ]
  },
  {
   "cell_type": "code",
   "execution_count": 20,
   "metadata": {},
   "outputs": [],
   "source": [
    "statiz_2021 = statiz[statiz.년도 == 2021].reset_index(drop = True)\n",
    "statiz_2021.일 = statiz_2021.일.astype(\"int\")"
   ]
  },
  {
   "cell_type": "markdown",
   "metadata": {},
   "source": [
    "# ops를 위한 타겟피쳐"
   ]
  },
  {
   "cell_type": "code",
   "execution_count": 21,
   "metadata": {},
   "outputs": [],
   "source": [
    "f_18 = statiz_18.groupby(\"선수\")[\"타수\"].agg([(\"타수\",\"sum\")]).reset_index()\n",
    "\n",
    "t = statiz_18.groupby(\"선수\")[\"안타\"].agg([(\"안타\",\"sum\")]).reset_index()\n",
    "f_18 = pd.merge(left = f_18, right = t,on = \"선수\")\n",
    "\n",
    "t = statiz_18.groupby(\"선수\")[\"2타\"].agg([(\"2타\",\"sum\")]).reset_index()\n",
    "f_18 = pd.merge(left = f_18, right = t,on = \"선수\")\n",
    "\n",
    "t = statiz_18.groupby(\"선수\")[\"3타\"].agg([(\"3타\",\"sum\")]).reset_index()\n",
    "f_18 = pd.merge(left = f_18, right = t,on = \"선수\")\n",
    "\n",
    "t = statiz_18.groupby(\"선수\")[\"홈런\"].agg([(\"홈런\",\"sum\")]).reset_index()\n",
    "f_18 = pd.merge(left = f_18, right = t,on = \"선수\")\n",
    "\n",
    "t = statiz_18.groupby(\"선수\")[\"볼넷\"].agg([(\"볼넷\",\"sum\")]).reset_index()\n",
    "f_18 = pd.merge(left = f_18, right = t,on = \"선수\")\n",
    "\n",
    "t = statiz_18.groupby(\"선수\")[\"사구\"].agg([(\"사구\",\"sum\")]).reset_index()\n",
    "f_18 = pd.merge(left = f_18, right = t,on = \"선수\")\n",
    "\n",
    "t = statiz_18.groupby(\"선수\")[\"고의사구\"].agg([(\"고의사구\",\"sum\")]).reset_index()\n",
    "f_18 = pd.merge(left = f_18, right = t,on = \"선수\")\n",
    "\n",
    "t = statiz_18.groupby(\"선수\")[\"희타\"].agg([(\"희타\",\"sum\")]).reset_index()\n",
    "f_18 = pd.merge(left = f_18, right = t,on = \"선수\")\n",
    "\n",
    "t = statiz_18.groupby(\"선수\")[\"희비\"].agg([(\"희비\",\"sum\")]).reset_index()\n",
    "f_18 = pd.merge(left = f_18, right = t,on = \"선수\")\n",
    "\n",
    "t = statiz_18.groupby(\"선수\")[\"삼진\"].agg([(\"삼진\",\"sum\")]).reset_index()\n",
    "f_18 = pd.merge(left = f_18, right = t,on = \"선수\")"
   ]
  },
  {
   "cell_type": "code",
   "execution_count": 22,
   "metadata": {},
   "outputs": [],
   "source": [
    "f_19 = statiz_19.groupby(\"선수\")[\"타수\"].agg([(\"타수\",\"sum\")]).reset_index()\n",
    "\n",
    "t = statiz_19.groupby(\"선수\")[\"안타\"].agg([(\"안타\",\"sum\")]).reset_index()\n",
    "f_19 = pd.merge(left = f_19, right = t,on = \"선수\")\n",
    "\n",
    "t = statiz_19.groupby(\"선수\")[\"2타\"].agg([(\"2타\",\"sum\")]).reset_index()\n",
    "f_19 = pd.merge(left = f_19, right = t,on = \"선수\")\n",
    "\n",
    "t = statiz_19.groupby(\"선수\")[\"3타\"].agg([(\"3타\",\"sum\")]).reset_index()\n",
    "f_19 = pd.merge(left = f_19, right = t,on = \"선수\")\n",
    "\n",
    "t = statiz_19.groupby(\"선수\")[\"홈런\"].agg([(\"홈런\",\"sum\")]).reset_index()\n",
    "f_19 = pd.merge(left = f_19, right = t,on = \"선수\")\n",
    "\n",
    "t = statiz_19.groupby(\"선수\")[\"볼넷\"].agg([(\"볼넷\",\"sum\")]).reset_index()\n",
    "f_19 = pd.merge(left = f_19, right = t,on = \"선수\")\n",
    "\n",
    "t = statiz_19.groupby(\"선수\")[\"사구\"].agg([(\"사구\",\"sum\")]).reset_index()\n",
    "f_19 = pd.merge(left = f_19, right = t,on = \"선수\")\n",
    "\n",
    "t = statiz_19.groupby(\"선수\")[\"고의사구\"].agg([(\"고의사구\",\"sum\")]).reset_index()\n",
    "f_19 = pd.merge(left = f_19, right = t,on = \"선수\")\n",
    "\n",
    "t = statiz_19.groupby(\"선수\")[\"희타\"].agg([(\"희타\",\"sum\")]).reset_index()\n",
    "f_19 = pd.merge(left = f_19, right = t,on = \"선수\")\n",
    "\n",
    "t = statiz_19.groupby(\"선수\")[\"희비\"].agg([(\"희비\",\"sum\")]).reset_index()\n",
    "f_19 = pd.merge(left = f_19, right = t,on = \"선수\")\n",
    "\n",
    "t = statiz_19.groupby(\"선수\")[\"삼진\"].agg([(\"삼진\",\"sum\")]).reset_index()\n",
    "f_19 = pd.merge(left = f_19, right = t,on = \"선수\")"
   ]
  },
  {
   "cell_type": "code",
   "execution_count": 23,
   "metadata": {},
   "outputs": [],
   "source": [
    "f_20 = statiz_20.groupby(\"선수\")[\"타수\"].agg([(\"타수\",\"sum\")]).reset_index()\n",
    "\n",
    "t = statiz_20.groupby(\"선수\")[\"안타\"].agg([(\"안타\",\"sum\")]).reset_index()\n",
    "f_20 = pd.merge(left = f_20, right = t,on = \"선수\")\n",
    "\n",
    "t = statiz_20.groupby(\"선수\")[\"2타\"].agg([(\"2타\",\"sum\")]).reset_index()\n",
    "f_20 = pd.merge(left = f_20, right = t,on = \"선수\")\n",
    "\n",
    "t = statiz_20.groupby(\"선수\")[\"3타\"].agg([(\"3타\",\"sum\")]).reset_index()\n",
    "f_20= pd.merge(left = f_20, right = t,on = \"선수\")\n",
    "\n",
    "t = statiz_20.groupby(\"선수\")[\"홈런\"].agg([(\"홈런\",\"sum\")]).reset_index()\n",
    "f_20 = pd.merge(left = f_20, right = t,on = \"선수\")\n",
    "\n",
    "t = statiz_20.groupby(\"선수\")[\"볼넷\"].agg([(\"볼넷\",\"sum\")]).reset_index()\n",
    "f_20 = pd.merge(left = f_20, right = t,on = \"선수\")\n",
    "\n",
    "t = statiz_20.groupby(\"선수\")[\"사구\"].agg([(\"사구\",\"sum\")]).reset_index()\n",
    "f_20 = pd.merge(left = f_20, right = t,on = \"선수\")\n",
    "\n",
    "t = statiz_20.groupby(\"선수\")[\"고의사구\"].agg([(\"고의사구\",\"sum\")]).reset_index()\n",
    "f_20 = pd.merge(left = f_20, right = t,on = \"선수\")\n",
    "\n",
    "t = statiz_20.groupby(\"선수\")[\"희타\"].agg([(\"희타\",\"sum\")]).reset_index()\n",
    "f_20 = pd.merge(left = f_20, right = t,on = \"선수\")\n",
    "\n",
    "t = statiz_20.groupby(\"선수\")[\"희비\"].agg([(\"희비\",\"sum\")]).reset_index()\n",
    "f_20 = pd.merge(left = f_20, right = t,on = \"선수\")\n",
    "\n",
    "t = statiz_20.groupby(\"선수\")[\"삼진\"].agg([(\"삼진\",\"sum\")]).reset_index()\n",
    "f_20 = pd.merge(left = f_20, right = t,on = \"선수\")"
   ]
  },
  {
   "cell_type": "code",
   "execution_count": 24,
   "metadata": {},
   "outputs": [],
   "source": [
    "lst = [f_18, f_19, f_20]\n",
    "for df in lst:\n",
    "    df[\"장타율\"] = (df[\"안타\"] + df[\"2타\"] + df[\"3타\"]*2 + df[\"홈런\"]*3)/df[\"타수\"]\n",
    "    df[\"출루율\"] = (df[\"안타\"] + df[\"볼넷\"] + df[\"사구\"])/ (df[\"타수\"] + df[\"볼넷\"] + df[\"사구\"] + df[\"희비\"])\n",
    "    df[\"타석\"] = df[\"타수\"] + df[\"볼넷\"] + df[\"사구\"] + df[\"희비\"] + df[\"희타\"]"
   ]
  },
  {
   "cell_type": "code",
   "execution_count": 25,
   "metadata": {},
   "outputs": [],
   "source": [
    "lst = [\"03\",\"04\",\"05\",\"06\"]\n",
    "statiz18 = statiz_2018.query(\"월 in @lst\")\n",
    "\n",
    "t = statiz_2018.query(\"월 == '07'\").reset_index(drop = True)\n",
    "\n",
    "t.일 = t.일.astype(\"int\")\n",
    "\n",
    "t = t[t.일<=24]\n",
    "\n",
    "statiz18 = pd.concat([statiz18,t], axis = 0).reset_index(drop=True)"
   ]
  },
  {
   "cell_type": "code",
   "execution_count": 26,
   "metadata": {},
   "outputs": [],
   "source": [
    "lst = [\"03\",\"04\",\"05\",\"06\"]\n",
    "statiz19 = statiz_2019.query(\"월 in @lst\")\n",
    "\n",
    "t = statiz_2019.query(\"월 == '07'\").reset_index(drop = True)\n",
    "\n",
    "t.일 = t.일.astype(\"int\")\n",
    "t = t[t.일<=18]\n",
    "\n",
    "statiz19 = pd.concat([statiz19,t], axis = 0).reset_index(drop=True)"
   ]
  },
  {
   "cell_type": "code",
   "execution_count": 27,
   "metadata": {},
   "outputs": [],
   "source": [
    "lst = [\"05\",\"06\",\"07\"]\n",
    "statiz20 = statiz_2020.query(\"월 in @lst\")\n",
    "\n",
    "t = statiz_2020.query(\"월 == '08'\").reset_index(drop = True)\n",
    "\n",
    "t.일 = t.일.astype(\"int\")\n",
    "t = t[t.일<= 29]\n",
    "\n",
    "statiz20 = pd.concat([statiz20, t], axis = 0).reset_index(drop=True)"
   ]
  },
  {
   "cell_type": "code",
   "execution_count": 28,
   "metadata": {},
   "outputs": [],
   "source": [
    "lst = [\"04\",\"05\",\"06\",\"07\"]\n",
    "\n",
    "statiz_21 = statiz_2021.query(\"월 in @lst\")\n",
    "\n",
    "t = statiz_2021.query(\"월 == '08'\").reset_index(drop = True)\n",
    "\n",
    "t.일 = t.일.astype(\"int\")\n",
    "t = t[t.일<=31]\n",
    "\n",
    "statiz21 = pd.concat([statiz_21,t], axis = 0).reset_index(drop=True)"
   ]
  },
  {
   "cell_type": "code",
   "execution_count": 29,
   "metadata": {},
   "outputs": [],
   "source": [
    "lst = [f_18, f_19, f_20]\n",
    "num = 2018\n",
    "for i in lst:\n",
    "    i[\"년도이름\"] = str(num) + \"_\" +i[\"선수\"]\n",
    "    num = num + 1"
   ]
  },
  {
   "cell_type": "code",
   "execution_count": 30,
   "metadata": {},
   "outputs": [],
   "source": [
    "f = pd.concat([f_18,f_19,f_20], axis = 0).reset_index(drop = True).fillna(0)"
   ]
  },
  {
   "cell_type": "code",
   "execution_count": 31,
   "metadata": {},
   "outputs": [],
   "source": [
    "statiz = pd.concat([statiz18,statiz19,statiz20], axis = 0).reset_index(drop = True)"
   ]
  },
  {
   "cell_type": "code",
   "execution_count": 32,
   "metadata": {},
   "outputs": [],
   "source": [
    "statiz[\"타석\"] = statiz[\"타수\"] + statiz[\"볼넷\"] + statiz[\"사구\"] + statiz[\"희비\"] + statiz[\"희타\"]"
   ]
  },
  {
   "cell_type": "code",
   "execution_count": 33,
   "metadata": {},
   "outputs": [],
   "source": [
    "statiz[\"년도이름\"] = statiz[\"년도\"].astype(\"str\") + \"_\" + statiz[\"선수\"]"
   ]
  },
  {
   "cell_type": "code",
   "execution_count": 34,
   "metadata": {},
   "outputs": [],
   "source": [
    "sta = statiz.groupby(\"년도이름\")[\"타석\"].agg([(\"타석\",\"sum\")]).reset_index()"
   ]
  },
  {
   "cell_type": "code",
   "execution_count": 35,
   "metadata": {},
   "outputs": [
    {
     "data": {
      "text/plain": [
       "count    706.000000\n",
       "mean     155.740793\n",
       "std      140.418834\n",
       "min        0.000000\n",
       "25%       28.000000\n",
       "50%      109.000000\n",
       "75%      289.750000\n",
       "max      706.000000\n",
       "Name: 타석, dtype: float64"
      ]
     },
     "execution_count": 35,
     "metadata": {},
     "output_type": "execute_result"
    }
   ],
   "source": [
    "sta.타석.describe()#train 스텟티즈"
   ]
  },
  {
   "cell_type": "code",
   "execution_count": 36,
   "metadata": {},
   "outputs": [
    {
     "data": {
      "text/plain": [
       "count    580.000000\n",
       "mean      37.012069\n",
       "std       29.999220\n",
       "min        0.000000\n",
       "25%        8.000000\n",
       "50%       31.000000\n",
       "75%       64.000000\n",
       "max      166.000000\n",
       "Name: 타석, dtype: float64"
      ]
     },
     "execution_count": 36,
     "metadata": {},
     "output_type": "execute_result"
    }
   ],
   "source": [
    "f.타석.describe() #test 스탯티즈"
   ]
  },
  {
   "cell_type": "code",
   "execution_count": 37,
   "metadata": {
    "scrolled": true
   },
   "outputs": [],
   "source": [
    "sta_list = list(sta[sta.타석 >=109].년도이름)\n",
    "sta = sta[sta.타석 >= 109]"
   ]
  },
  {
   "cell_type": "code",
   "execution_count": 38,
   "metadata": {},
   "outputs": [],
   "source": [
    "f_list = list(f[f.타석 >= 31].년도이름)\n",
    "f = f[f.타석 >= 31]"
   ]
  },
  {
   "cell_type": "code",
   "execution_count": 39,
   "metadata": {},
   "outputs": [
    {
     "data": {
      "text/plain": [
       "355"
      ]
     },
     "execution_count": 39,
     "metadata": {},
     "output_type": "execute_result"
    }
   ],
   "source": [
    "len(sta_list)"
   ]
  },
  {
   "cell_type": "code",
   "execution_count": 40,
   "metadata": {
    "scrolled": true
   },
   "outputs": [],
   "source": [
    "nottr = list(set(sta_list) - set(f_list)) \n",
    "#18,19,20년도 충분한 X,y의 타석수를 채운 선수들을 뽑기위한 집합"
   ]
  },
  {
   "cell_type": "code",
   "execution_count": null,
   "metadata": {},
   "outputs": [],
   "source": []
  },
  {
   "cell_type": "code",
   "execution_count": 41,
   "metadata": {},
   "outputs": [],
   "source": [
    "statiz21[\"타석\"] = statiz21[\"타수\"] + statiz21[\"볼넷\"] + statiz21[\"사구\"] + statiz21[\"희비\"] + statiz21[\"희타\"]\n",
    "statiz21[\"년도이름\"] = \"2021\" + \"_\" + statiz21[\"선수\"]"
   ]
  },
  {
   "cell_type": "code",
   "execution_count": 42,
   "metadata": {},
   "outputs": [],
   "source": [
    "sta21 = statiz21.groupby(\"년도이름\")[\"타석\"].agg([(\"타석\",\"sum\")]).reset_index()"
   ]
  },
  {
   "cell_type": "code",
   "execution_count": 43,
   "metadata": {},
   "outputs": [],
   "source": [
    "te = list(sta21[sta21.타석>=109].년도이름) "
   ]
  },
  {
   "cell_type": "code",
   "execution_count": 44,
   "metadata": {},
   "outputs": [],
   "source": [
    "sta21 = sta21.query(\"년도이름 in @te\") # 21년도 X의 충분한 타석수"
   ]
  },
  {
   "cell_type": "code",
   "execution_count": 45,
   "metadata": {},
   "outputs": [],
   "source": [
    "sta = sta.query(\"년도이름 not in @nottr\").reset_index(drop = True)"
   ]
  },
  {
   "cell_type": "code",
   "execution_count": 46,
   "metadata": {},
   "outputs": [],
   "source": [
    "X = pd.concat([sta, sta21], axis = 0).reset_index(drop = True)"
   ]
  },
  {
   "cell_type": "code",
   "execution_count": 47,
   "metadata": {},
   "outputs": [],
   "source": [
    "all_list = list(X.년도이름)"
   ]
  },
  {
   "cell_type": "code",
   "execution_count": 48,
   "metadata": {},
   "outputs": [],
   "source": [
    "statiz = pd.concat([statiz, statiz21], axis = 0).reset_index(drop = True)"
   ]
  },
  {
   "cell_type": "code",
   "execution_count": 49,
   "metadata": {},
   "outputs": [],
   "source": [
    "statiz = statiz.query(\"년도이름 in @all_list\").reset_index(drop = True) \n",
    "# 21년 기준 8월 31까지 경기수에 맞춰 2분위수를 넘는 타석을지닌 타자들의 로우데이터"
   ]
  },
  {
   "cell_type": "code",
   "execution_count": 50,
   "metadata": {},
   "outputs": [
    {
     "data": {
      "text/html": [
       "<div>\n",
       "<style scoped>\n",
       "    .dataframe tbody tr th:only-of-type {\n",
       "        vertical-align: middle;\n",
       "    }\n",
       "\n",
       "    .dataframe tbody tr th {\n",
       "        vertical-align: top;\n",
       "    }\n",
       "\n",
       "    .dataframe thead th {\n",
       "        text-align: right;\n",
       "    }\n",
       "</style>\n",
       "<table border=\"1\" class=\"dataframe\">\n",
       "  <thead>\n",
       "    <tr style=\"text-align: right;\">\n",
       "      <th></th>\n",
       "      <th>년도이름</th>\n",
       "      <th>타수</th>\n",
       "    </tr>\n",
       "  </thead>\n",
       "  <tbody>\n",
       "    <tr>\n",
       "      <th>0</th>\n",
       "      <td>2018_강경학</td>\n",
       "      <td>146</td>\n",
       "    </tr>\n",
       "    <tr>\n",
       "      <th>1</th>\n",
       "      <td>2018_강민호</td>\n",
       "      <td>288</td>\n",
       "    </tr>\n",
       "    <tr>\n",
       "      <th>2</th>\n",
       "      <td>2018_강백호</td>\n",
       "      <td>325</td>\n",
       "    </tr>\n",
       "    <tr>\n",
       "      <th>3</th>\n",
       "      <td>2018_강승호</td>\n",
       "      <td>94</td>\n",
       "    </tr>\n",
       "    <tr>\n",
       "      <th>4</th>\n",
       "      <td>2018_고종욱</td>\n",
       "      <td>236</td>\n",
       "    </tr>\n",
       "    <tr>\n",
       "      <th>...</th>\n",
       "      <td>...</td>\n",
       "      <td>...</td>\n",
       "    </tr>\n",
       "    <tr>\n",
       "      <th>369</th>\n",
       "      <td>2021_허경민</td>\n",
       "      <td>333</td>\n",
       "    </tr>\n",
       "    <tr>\n",
       "      <th>370</th>\n",
       "      <td>2021_홍창기</td>\n",
       "      <td>332</td>\n",
       "    </tr>\n",
       "    <tr>\n",
       "      <th>371</th>\n",
       "      <td>2021_황대인</td>\n",
       "      <td>131</td>\n",
       "    </tr>\n",
       "    <tr>\n",
       "      <th>372</th>\n",
       "      <td>2021_황재균</td>\n",
       "      <td>254</td>\n",
       "    </tr>\n",
       "    <tr>\n",
       "      <th>373</th>\n",
       "      <td>2021_힐리</td>\n",
       "      <td>249</td>\n",
       "    </tr>\n",
       "  </tbody>\n",
       "</table>\n",
       "<p>374 rows × 2 columns</p>\n",
       "</div>"
      ],
      "text/plain": [
       "         년도이름   타수\n",
       "0    2018_강경학  146\n",
       "1    2018_강민호  288\n",
       "2    2018_강백호  325\n",
       "3    2018_강승호   94\n",
       "4    2018_고종욱  236\n",
       "..        ...  ...\n",
       "369  2021_허경민  333\n",
       "370  2021_홍창기  332\n",
       "371  2021_황대인  131\n",
       "372  2021_황재균  254\n",
       "373   2021_힐리  249\n",
       "\n",
       "[374 rows x 2 columns]"
      ]
     },
     "execution_count": 50,
     "metadata": {},
     "output_type": "execute_result"
    }
   ],
   "source": [
    "statiz.groupby(\"년도이름\")[\"타수\"].agg([(\"타수\",\"sum\")]).reset_index()"
   ]
  },
  {
   "cell_type": "code",
   "execution_count": 51,
   "metadata": {},
   "outputs": [],
   "source": [
    "statiz.loc[statiz[\"선수\"] == \"한유섬\",[\"선수\"]] = \"한동민\"\n",
    "statiz.loc[(statiz[\"선수\"] == \"한동민\") & (statiz[\"년도\"] == 2021),[\"선수\"]] = \"한유섬\"\n",
    "statiz[\"년도이름\"] = statiz[\"년도\"].astype(\"str\") + \"_\" + statiz[\"선수\"]"
   ]
  },
  {
   "cell_type": "code",
   "execution_count": 52,
   "metadata": {},
   "outputs": [],
   "source": [
    "year = 2018\n",
    "lst = [f_18, f_19, f_20]\n",
    "for i in lst:\n",
    "    i[\"년도\"] = year\n",
    "    i[\"년도이름\"] = str(year) + \"_\" + i[\"선수\"]\n",
    "    year = year + 1"
   ]
  },
  {
   "cell_type": "code",
   "execution_count": 53,
   "metadata": {},
   "outputs": [],
   "source": [
    "sta_y = pd.concat([f_18, f_19, f_20], axis = 0).reset_index(drop = True)"
   ]
  },
  {
   "cell_type": "code",
   "execution_count": 54,
   "metadata": {},
   "outputs": [],
   "source": [
    "sta_y.loc[sta_y[\"선수\"] == \"한유섬\",[\"선수\"]] = \"한동민\"\n",
    "sta_y.loc[(sta_y[\"선수\"] == \"한동민\") & (sta_y[\"년도\"] == 2021),[\"선수\"]] = \"한유섬\""
   ]
  },
  {
   "cell_type": "code",
   "execution_count": 55,
   "metadata": {},
   "outputs": [],
   "source": [
    "sta_y[\"타석\"] = sta_y[\"타수\"] + sta_y[\"볼넷\"] + sta_y[\"사구\"] + sta_y[\"희비\"] + sta_y[\"희타\"]"
   ]
  },
  {
   "cell_type": "code",
   "execution_count": 56,
   "metadata": {},
   "outputs": [],
   "source": [
    "sta_y[\"년도이름\"] = sta_y[\"년도\"].astype(\"str\") + \"_\" + sta_y[\"선수\"]"
   ]
  },
  {
   "cell_type": "code",
   "execution_count": 57,
   "metadata": {},
   "outputs": [],
   "source": [
    "sta_y = sta_y[sta_y.타석 >= 31].reset_index(drop = True)"
   ]
  },
  {
   "cell_type": "code",
   "execution_count": 58,
   "metadata": {},
   "outputs": [],
   "source": [
    "sta_y[\"ops\"] = sta_y[\"출루율\"] + sta_y[\"장타율\"]"
   ]
  },
  {
   "cell_type": "code",
   "execution_count": 59,
   "metadata": {},
   "outputs": [],
   "source": [
    "batter_ = pd.concat([batter_2018,batter_2019,batter_2020,batter_2021],axis = 0)\n",
    "batter_[\"고유선수코드\"] = batter_[\"년도\"].astype(\"str\") + \"_\" + batter_[\"선수코드\"].astype(\"str\")\n",
    "\n",
    "player = pd.concat([player_2018,player_2019,player_2020, player_2021],axis = 0)\n",
    "player[\"고유선수코드\"] = player[\"년도\"].astype(\"str\") + \"_\" + player[\"선수코드\"].astype(\"str\")\n",
    "\n",
    "df = batter_[batter_.타석 >= 70].reset_index(drop = True)\n",
    "\n",
    "df = pd.merge(left = df, right = player.loc[:,[\"고유선수코드\",\"이름\"]],on = \"고유선수코드\")\n",
    "\n",
    "df[\"년도이름\"] = df[\"년도\"].astype('str') + \"_\" + df[\"이름\"]\n",
    "\n",
    "statiz = pd.merge(left = statiz, right = df.loc[:,[\"고유선수코드\",\"년도이름\"]], on = \"년도이름\")"
   ]
  },
  {
   "cell_type": "code",
   "execution_count": 60,
   "metadata": {},
   "outputs": [],
   "source": [
    "lst = [2018,2019,2020]\n",
    "sta_train = statiz.query(\"년도 in @lst\")"
   ]
  },
  {
   "cell_type": "code",
   "execution_count": 61,
   "metadata": {},
   "outputs": [],
   "source": [
    "lst = sta_train[\"년도이름\"].unique()\n",
    "sta_y = sta_y.query(\"년도이름 in @lst\").reset_index(drop = True)"
   ]
  },
  {
   "cell_type": "code",
   "execution_count": null,
   "metadata": {},
   "outputs": [],
   "source": []
  },
  {
   "cell_type": "code",
   "execution_count": 62,
   "metadata": {},
   "outputs": [],
   "source": [
    "t = sta_train.groupby(\"년도이름\")[\"고유선수코드\"].agg([(\"고유선수코드\",\"first\")]).reset_index()"
   ]
  },
  {
   "cell_type": "code",
   "execution_count": 63,
   "metadata": {},
   "outputs": [],
   "source": [
    "sta_y = pd.merge(left = sta_y , right = t, on =\"년도이름\")"
   ]
  },
  {
   "cell_type": "code",
   "execution_count": 64,
   "metadata": {},
   "outputs": [],
   "source": [
    "sta_y = sta_y.loc[:,[\"고유선수코드\",\"선수\",\"출루율\",\"장타율\",\"ops\"]] # 타겟 데이터"
   ]
  },
  {
   "cell_type": "code",
   "execution_count": null,
   "metadata": {},
   "outputs": [],
   "source": []
  }
 ],
 "metadata": {
  "kernelspec": {
   "display_name": "Python 3",
   "language": "python",
   "name": "python3"
  },
  "language_info": {
   "codemirror_mode": {
    "name": "ipython",
    "version": 3
   },
   "file_extension": ".py",
   "mimetype": "text/x-python",
   "name": "python",
   "nbconvert_exporter": "python",
   "pygments_lexer": "ipython3",
   "version": "3.8.8"
  }
 },
 "nbformat": 4,
 "nbformat_minor": 4
}
